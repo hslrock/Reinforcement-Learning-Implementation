{
 "cells": [
  {
   "cell_type": "code",
   "execution_count": 12,
   "metadata": {},
   "outputs": [
    {
     "name": "stdout",
     "output_type": "stream",
     "text": [
      " THE Configuration of your experiment ..\n",
      "{'agent': 'DQNAgent',\n",
      " 'async_loading': True,\n",
      " 'batch_size': 256,\n",
      " 'checkpoint_file': 'checkpoint.pth.tar',\n",
      " 'conv_filters': [16, 32, 32],\n",
      " 'cuda': True,\n",
      " 'data_folder': '',\n",
      " 'data_loader': '',\n",
      " 'data_loader_workers': 2,\n",
      " 'data_mode': '',\n",
      " 'eps_decay': 200,\n",
      " 'eps_end': 0.05,\n",
      " 'eps_start': 0.9,\n",
      " 'exp_name': 'exp_0',\n",
      " 'gamma': 0.999,\n",
      " 'gpu_device': 0,\n",
      " 'image_size': 64,\n",
      " 'input_channels': 3,\n",
      " 'max_epoch': 100,\n",
      " 'memory_capacity': 10000,\n",
      " 'num_classes': 2,\n",
      " 'num_episodes': 50,\n",
      " 'pin_memory': True,\n",
      " 'screen_width': 600,\n",
      " 'seed': 1337,\n",
      " 'target_update': 10,\n",
      " 'validate_every': 2,\n",
      " 'x_test': '',\n",
      " 'x_train': '',\n",
      " 'x_valid': '',\n",
      " 'y_test': '',\n",
      " 'y_train': '',\n",
      " 'y_valid': ''}\n",
      " *************************************** \n"
     ]
    }
   ],
   "source": [
    "import argparse\n",
    "from utils.config import process_config\n",
    "\n",
    "\n",
    "config = process_config(\"configs/dqn_exp_0.json\")"
   ]
  },
  {
   "cell_type": "code",
   "execution_count": 13,
   "metadata": {},
   "outputs": [
    {
     "name": "stdout",
     "output_type": "stream",
     "text": [
      "The autoreload extension is already loaded. To reload it, use:\n",
      "  %reload_ext autoreload\n"
     ]
    }
   ],
   "source": [
    "%load_ext autoreload\n",
    "%autoreload 2"
   ]
  },
  {
   "cell_type": "code",
   "execution_count": 14,
   "metadata": {},
   "outputs": [
    {
     "name": "stderr",
     "output_type": "stream",
     "text": [
      "100%|██████████████████████████████████████████████████████████████████████████████████| 50/50 [00:05<00:00,  9.66it/s]\n"
     ]
    }
   ],
   "source": [
    "from agents.reinforce import REINFORCEAgent\n",
    "test=REINFORCEAgent(config)\n",
    "test.train()\n",
    "\n",
    "\n",
    "\n"
   ]
  },
  {
   "cell_type": "code",
   "execution_count": 8,
   "metadata": {},
   "outputs": [],
   "source": [
    "test.env.close()"
   ]
  },
  {
   "cell_type": "code",
   "execution_count": null,
   "metadata": {},
   "outputs": [],
   "source": []
  }
 ],
 "metadata": {
  "kernelspec": {
   "display_name": "Python 3",
   "language": "python",
   "name": "python3"
  },
  "language_info": {
   "codemirror_mode": {
    "name": "ipython",
    "version": 3
   },
   "file_extension": ".py",
   "mimetype": "text/x-python",
   "name": "python",
   "nbconvert_exporter": "python",
   "pygments_lexer": "ipython3",
   "version": "3.7.5"
  }
 },
 "nbformat": 4,
 "nbformat_minor": 4
}
